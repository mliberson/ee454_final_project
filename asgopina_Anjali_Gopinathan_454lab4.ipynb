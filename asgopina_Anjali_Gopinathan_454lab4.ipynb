{
 "cells": [
  {
   "cell_type": "code",
   "execution_count": 1,
   "metadata": {
    "colab": {
     "base_uri": "https://localhost:8080/"
    },
    "id": "NXsme_6NRaEP",
    "outputId": "8bbc0ba1-7544-4c40-a5dd-1904fa7bdbd4"
   },
   "outputs": [
    {
     "name": "stdout",
     "output_type": "stream",
     "text": [
      "Mounted at /content/drive\n"
     ]
    }
   ],
   "source": [
    "from google.colab import drive\n",
    "drive.mount('/content/drive')"
   ]
  },
  {
   "cell_type": "markdown",
   "metadata": {
    "id": "MD4prbKafL7C"
   },
   "source": [
    "## Read input"
   ]
  },
  {
   "cell_type": "code",
   "execution_count": 2,
   "metadata": {
    "id": "DSMHGWqKRqQ-"
   },
   "outputs": [],
   "source": [
    "import pandas as pd\n",
    "import numpy as np\n",
    "import math\n",
    "df = pd.read_csv('/content/drive/MyDrive/Fall 2021/EE 454/Lab4/google-cluster-data-1.csv',sep=' ')"
   ]
  },
  {
   "cell_type": "code",
   "execution_count": 3,
   "metadata": {
    "colab": {
     "base_uri": "https://localhost:8080/",
     "height": 419
    },
    "id": "oNW697KISI7P",
    "outputId": "9e2e4f41-086a-4ba8-d3b5-d7373d74b6ea"
   },
   "outputs": [
    {
     "data": {
      "text/html": [
       "<div>\n",
       "<style scoped>\n",
       "    .dataframe tbody tr th:only-of-type {\n",
       "        vertical-align: middle;\n",
       "    }\n",
       "\n",
       "    .dataframe tbody tr th {\n",
       "        vertical-align: top;\n",
       "    }\n",
       "\n",
       "    .dataframe thead th {\n",
       "        text-align: right;\n",
       "    }\n",
       "</style>\n",
       "<table border=\"1\" class=\"dataframe\">\n",
       "  <thead>\n",
       "    <tr style=\"text-align: right;\">\n",
       "      <th></th>\n",
       "      <th>Time</th>\n",
       "      <th>ParentID</th>\n",
       "      <th>TaskID</th>\n",
       "      <th>JobType</th>\n",
       "      <th>NrmlTaskCores</th>\n",
       "      <th>NrmlTaskMem</th>\n",
       "      <th>Unnamed: 6</th>\n",
       "    </tr>\n",
       "  </thead>\n",
       "  <tbody>\n",
       "    <tr>\n",
       "      <th>0</th>\n",
       "      <td>90000</td>\n",
       "      <td>757745334</td>\n",
       "      <td>1488529826</td>\n",
       "      <td>0</td>\n",
       "      <td>0.000000</td>\n",
       "      <td>0.031130</td>\n",
       "      <td>NaN</td>\n",
       "    </tr>\n",
       "    <tr>\n",
       "      <th>1</th>\n",
       "      <td>90000</td>\n",
       "      <td>975992247</td>\n",
       "      <td>1488529821</td>\n",
       "      <td>0</td>\n",
       "      <td>0.000000</td>\n",
       "      <td>0.000000</td>\n",
       "      <td>NaN</td>\n",
       "    </tr>\n",
       "    <tr>\n",
       "      <th>2</th>\n",
       "      <td>90000</td>\n",
       "      <td>1468458091</td>\n",
       "      <td>1488529832</td>\n",
       "      <td>1</td>\n",
       "      <td>0.021875</td>\n",
       "      <td>0.002353</td>\n",
       "      <td>NaN</td>\n",
       "    </tr>\n",
       "    <tr>\n",
       "      <th>3</th>\n",
       "      <td>90000</td>\n",
       "      <td>1460281235</td>\n",
       "      <td>1488529840</td>\n",
       "      <td>0</td>\n",
       "      <td>0.000000</td>\n",
       "      <td>0.000000</td>\n",
       "      <td>NaN</td>\n",
       "    </tr>\n",
       "    <tr>\n",
       "      <th>4</th>\n",
       "      <td>90000</td>\n",
       "      <td>1164728954</td>\n",
       "      <td>1488529835</td>\n",
       "      <td>0</td>\n",
       "      <td>0.003125</td>\n",
       "      <td>0.001638</td>\n",
       "      <td>NaN</td>\n",
       "    </tr>\n",
       "    <tr>\n",
       "      <th>...</th>\n",
       "      <td>...</td>\n",
       "      <td>...</td>\n",
       "      <td>...</td>\n",
       "      <td>...</td>\n",
       "      <td>...</td>\n",
       "      <td>...</td>\n",
       "      <td>...</td>\n",
       "    </tr>\n",
       "    <tr>\n",
       "      <th>3535024</th>\n",
       "      <td>112500</td>\n",
       "      <td>1487094655</td>\n",
       "      <td>1487103476</td>\n",
       "      <td>0</td>\n",
       "      <td>0.000000</td>\n",
       "      <td>0.000879</td>\n",
       "      <td>NaN</td>\n",
       "    </tr>\n",
       "    <tr>\n",
       "      <th>3535025</th>\n",
       "      <td>112500</td>\n",
       "      <td>1461321601</td>\n",
       "      <td>1465612301</td>\n",
       "      <td>0</td>\n",
       "      <td>0.000000</td>\n",
       "      <td>0.000879</td>\n",
       "      <td>NaN</td>\n",
       "    </tr>\n",
       "    <tr>\n",
       "      <th>3535026</th>\n",
       "      <td>112500</td>\n",
       "      <td>1487094655</td>\n",
       "      <td>1487097223</td>\n",
       "      <td>0</td>\n",
       "      <td>0.000000</td>\n",
       "      <td>0.000879</td>\n",
       "      <td>NaN</td>\n",
       "    </tr>\n",
       "    <tr>\n",
       "      <th>3535027</th>\n",
       "      <td>112500</td>\n",
       "      <td>618817162</td>\n",
       "      <td>1485932004</td>\n",
       "      <td>1</td>\n",
       "      <td>0.000000</td>\n",
       "      <td>0.000879</td>\n",
       "      <td>NaN</td>\n",
       "    </tr>\n",
       "    <tr>\n",
       "      <th>3535028</th>\n",
       "      <td>112500</td>\n",
       "      <td>1213243701</td>\n",
       "      <td>1349431592</td>\n",
       "      <td>0</td>\n",
       "      <td>0.000000</td>\n",
       "      <td>0.000879</td>\n",
       "      <td>NaN</td>\n",
       "    </tr>\n",
       "  </tbody>\n",
       "</table>\n",
       "<p>3535029 rows × 7 columns</p>\n",
       "</div>"
      ],
      "text/plain": [
       "           Time    ParentID      TaskID  ...  NrmlTaskCores  NrmlTaskMem  Unnamed: 6\n",
       "0         90000   757745334  1488529826  ...       0.000000     0.031130         NaN\n",
       "1         90000   975992247  1488529821  ...       0.000000     0.000000         NaN\n",
       "2         90000  1468458091  1488529832  ...       0.021875     0.002353         NaN\n",
       "3         90000  1460281235  1488529840  ...       0.000000     0.000000         NaN\n",
       "4         90000  1164728954  1488529835  ...       0.003125     0.001638         NaN\n",
       "...         ...         ...         ...  ...            ...          ...         ...\n",
       "3535024  112500  1487094655  1487103476  ...       0.000000     0.000879         NaN\n",
       "3535025  112500  1461321601  1465612301  ...       0.000000     0.000879         NaN\n",
       "3535026  112500  1487094655  1487097223  ...       0.000000     0.000879         NaN\n",
       "3535027  112500   618817162  1485932004  ...       0.000000     0.000879         NaN\n",
       "3535028  112500  1213243701  1349431592  ...       0.000000     0.000879         NaN\n",
       "\n",
       "[3535029 rows x 7 columns]"
      ]
     },
     "execution_count": 3,
     "metadata": {},
     "output_type": "execute_result"
    }
   ],
   "source": [
    "df"
   ]
  },
  {
   "cell_type": "code",
   "execution_count": 4,
   "metadata": {
    "id": "QjCbSDOS0scR"
   },
   "outputs": [],
   "source": [
    "# Constants that change between rounds\n",
    "burst_time_mod_operand_1 = 2\n",
    "burst_time_mod_operand_2 = 10\n",
    "cpu_max_1 = 7\n",
    "cpu_max_2 = 25\n",
    "mem_max_1 = 11\n",
    "mem_max_2 = 40\n",
    "dynamic_pwr_threshold_1 = 0.5\n",
    "dynamic_pwr_threshold_2 = 0.9\n"
   ]
  },
  {
   "cell_type": "code",
   "execution_count": 5,
   "metadata": {
    "id": "veNjgQLATJpM"
   },
   "outputs": [],
   "source": [
    "# Constants that are constant between rounds\n",
    "c=5 \n",
    "a=100\n",
    "b=200\n",
    "price_model = [0.5, 0.5, 0.6, 0.6, 0.6, 0.7, 0.7, 0.6, 0.6, 0.8, 0.8, 0.8, 0.8]\n",
    "time_zero = 90000\n",
    "times = set(df['Time'])   # set version of df[\"Time\"] so there are no duplicates\n",
    "\n"
   ]
  },
  {
   "cell_type": "markdown",
   "metadata": {
    "id": "7a1DHC2ZfTMq"
   },
   "source": [
    "## Round-Robin Alg\n",
    "Assumption 1: we search from first VM.\n",
    "\n",
    "\n",
    "Assumption 2: search from i+1 instead of j+1."
   ]
  },
  {
   "cell_type": "code",
   "execution_count": 6,
   "metadata": {
    "id": "AI4wFck8is7N"
   },
   "outputs": [],
   "source": [
    "def energy_consumption_per_task(usage_rate, dynamic_pwr_threshold, a, b, c):\n",
    "  # sum of static power consumption and dynamic power consumption\n",
    "  pwr_static = c if dynamic_pwr_threshold > 0 else 0\n",
    "  # if dynamic_pwr_threshold > 0:\n",
    "  #   pwr_static = c\n",
    "  # else:\n",
    "  #   pwr_static = 0\n",
    "  if usage_rate < dynamic_pwr_threshold:\n",
    "    pwr_dynamic = usage_rate * a\n",
    "  else:   # usage rate is greater than or equal to threshold\n",
    "    pwr_dynamic = (dynamic_pwr_threshold*a) + (((usage_rate - dynamic_pwr_threshold)**2) * b)\n",
    "  return pwr_static + pwr_dynamic"
   ]
  },
  {
   "cell_type": "code",
   "execution_count": 7,
   "metadata": {
    "id": "ceuGmQFMo-3F"
   },
   "outputs": [],
   "source": [
    "def price(time):\n",
    "  loc = ((time - time_zero) // 3600) % 12    # integer division to round down for the hour\n",
    "  return price_model[loc]"
   ]
  },
  {
   "cell_type": "code",
   "execution_count": 8,
   "metadata": {
    "id": "YKX64Wf4Qn3V"
   },
   "outputs": [],
   "source": [
    "def rr(round, dynamic_pwr_threshold, burst_time_mod_operand, cpu_max, mem_max):\n",
    "  rejected = []\n",
    "  subtasks = 0\n",
    "  total_energy = 0.0\n",
    "  total_cost = 0.0\n",
    "\n",
    "  # First column is CPU units, second is MEM\n",
    "  # insert column for burst time AKA execution time\n",
    "  VMs = [[cpu_max, mem_max] for i in range(100)]\n",
    "  df['ExecutionTime_'+ round] = ((df['TaskID']%burst_time_mod_operand)+1)*300\n",
    "  subtasks = 0\n",
    "  for i in range(len(df)):\n",
    "    # subtasks is essentially the number of quantums\n",
    "    subtasks += math.ceil(df['ExecutionTime_' + round][i] / 300)\n",
    "\n",
    "  print(\"Calculated number of subtasks round \" + round + \":\", subtasks)\n",
    "\n",
    "\n",
    "  for t in times:\n",
    "    pwr_t = 0.0\n",
    "    # only look at task id if the time is the same\n",
    "    gen = (x for x in df.index if df['Time'][x] == t) # generator expression to improve speed\n",
    "    for i in gen:  \n",
    "      cpu, mem = df['NrmlTaskCores'][i], df['NrmlTaskMem'][i]\n",
    "      VM_id = i % 100\n",
    "      foundAvailableVM = -1\n",
    "      if VMs[VM_id][0] >= cpu and VMs[VM_id][1] >= mem:      # found an available VM\n",
    "        foundAvailableVM = VM_id\n",
    "        ## update VM resource availability. \n",
    "        VMs[VM_id][0] = VMs[VM_id][0] - cpu   # subtract out used cpus for this task \n",
    "        VMs[VM_id][1] = VMs[VM_id][1] - mem   # subtract out used mem units for this task\n",
    "      else:\n",
    "        ## search next available VM. \n",
    "        j = VM_id\n",
    "        while True:\n",
    "          if (VM_id == 0 and j == 99) or (VM_id != 0 and j == VM_id-1):\n",
    "            break\n",
    "\n",
    "          if VMs[j][0] >= cpu and VMs[j][1] >= mem:      \n",
    "            # found an available VM\n",
    "            foundAvailableVM = j\n",
    "            # update resources availability \n",
    "            VMs[j][0] = VMs[j][0] - cpu   # subtract out used cpus for this task  \n",
    "            VMs[j][1] = VMs[j][1] - mem   # subtract out used mem units for this task\n",
    "            break\n",
    "          \n",
    "          if j == 99:\n",
    "            j = 0\n",
    "          else:\n",
    "            j += 1\n",
    "          subtasks += 1\n",
    "\n",
    "        if foundAvailableVM == -1:\n",
    "          rejected.append(df['TaskID'][i])\n",
    "        else:\n",
    "          # don't want to calculate energy consumption for rejected tasks because we don't have an available VM to use to calculate usage rate\n",
    "          usage_rate = cpu / VMs[foundAvailableVM][0]\n",
    "          \n",
    "          pwr_t += energy_consumption_per_task(usage_rate, dynamic_pwr_threshold, a, b, c)\n",
    "\n",
    "    total_energy += pwr_t\n",
    "    cost = price(t) * pwr_t\n",
    "  \n",
    "  print(\"Number of rejected tasks:\", len(rejected))\n",
    "  if len(rejected) > 0:\n",
    "    np.save('taskReject_' + round + '.npy', rejected)\n",
    "  rejectionRate = 100 * len(rejected) / 3535029\n",
    "  print(\"Rejection rate: \", end=\"\")\n",
    "  print(f'{rejectionRate:.2f} %')\n",
    "\n",
    "  print(\"Counted number of subtasks:\", subtasks)\n",
    "\n",
    "  print(\"\\nTotal energy consumed:\", total_energy)\n",
    "  print(\"\\nTotal cost:\", total_cost)\n",
    "  \n",
    "  np.save('exe_time_' + round + '.npy', df['ExecutionTime_' + round])    # save execution time\n",
    "  np.save('VMs_' + round + '.npy', VMs)   # save VMs.npy file, showing remaining resources left after processing google cluster data\n"
   ]
  },
  {
   "cell_type": "code",
   "execution_count": 8,
   "metadata": {
    "id": "hFoO-A2xHiz-"
   },
   "outputs": [],
   "source": []
  },
  {
   "cell_type": "code",
   "execution_count": 9,
   "metadata": {
    "colab": {
     "base_uri": "https://localhost:8080/"
    },
    "id": "VTNH5YAw7F77",
    "outputId": "53d34fb9-7994-4a77-a36e-c05d563bfaff"
   },
   "outputs": [
    {
     "name": "stdout",
     "output_type": "stream",
     "text": [
      "---- Round 1 ----\n",
      "Calculated number of subtasks round 1: 5298274\n",
      "Number of rejected tasks: 0\n",
      "Rejection rate: 0.00 %\n",
      "Counted number of subtasks: 343341489\n",
      "\n",
      "Total energy consumed: 21500448.718800142\n",
      "\n",
      "Total cost: 0.0\n"
     ]
    }
   ],
   "source": [
    "print(\"---- Round 1 ----\")\n",
    "rr('1', dynamic_pwr_threshold_1, burst_time_mod_operand_1, cpu_max_1, mem_max_1)\n",
    "\n"
   ]
  },
  {
   "cell_type": "code",
   "execution_count": 10,
   "metadata": {
    "colab": {
     "base_uri": "https://localhost:8080/"
    },
    "id": "YxA3XQA6D-a_",
    "outputId": "c02b320c-c5f9-4d75-b5c8-ad2870d3d17a"
   },
   "outputs": [
    {
     "name": "stdout",
     "output_type": "stream",
     "text": [
      "---- Round 2 ----\n",
      "Calculated number of subtasks round 2: 19472018\n",
      "Number of rejected tasks: 0\n",
      "Rejection rate: 0.00 %\n",
      "Counted number of subtasks: 339099006\n",
      "\n",
      "Total energy consumed: 16881067.272083394\n",
      "\n",
      "Total cost: 0.0\n"
     ]
    }
   ],
   "source": [
    "print(\"---- Round 2 ----\")\n",
    "rr('2', dynamic_pwr_threshold_2, burst_time_mod_operand_2, cpu_max_2, mem_max_2)\n"
   ]
  },
  {
   "cell_type": "markdown",
   "metadata": {
    "id": "tCLi2CwO7OmQ"
   },
   "source": [
    "## Give an explanation of why there is or there is no rejection under the set up of 7 cpu and 11 mem.\n",
    "\n",
    "The VMs are not all running at the same time, so we don't need as many CPU units or MEM units."
   ]
  }
 ],
 "metadata": {
  "colab": {
   "collapsed_sections": [],
   "name": "asgopina_Anjali_Gopinathan_454lab4.ipynb",
   "provenance": []
  },
  "kernelspec": {
   "display_name": "Python 3 (ipykernel)",
   "language": "python",
   "name": "python3"
  },
  "language_info": {
   "codemirror_mode": {
    "name": "ipython",
    "version": 3
   },
   "file_extension": ".py",
   "mimetype": "text/x-python",
   "name": "python",
   "nbconvert_exporter": "python",
   "pygments_lexer": "ipython3",
   "version": "3.8.5"
  }
 },
 "nbformat": 4,
 "nbformat_minor": 4
}
